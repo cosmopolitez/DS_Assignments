{
 "cells": [
  {
   "cell_type": "markdown",
   "id": "5921f3dd-97ec-4309-ac8c-4870eba06c19",
   "metadata": {},
   "source": [
    "# Data Science Tools and Ecosystem"
   ]
  },
  {
   "cell_type": "markdown",
   "id": "d9905f85-6aff-41f0-82ef-59c1220445b6",
   "metadata": {},
   "source": [
    "In this notebook, Data Science Tools and Ecosystem are summarized."
   ]
  },
  {
   "cell_type": "markdown",
   "id": "b5e0c562-55da-4d04-a764-e6ef0500a832",
   "metadata": {},
   "source": [
    "Some of the popular languages that Data Scientists use are:\n",
    "1. python\n",
    "2. R\n",
    "3. Julia"
   ]
  },
  {
   "cell_type": "markdown",
   "id": "bf6e4f00-b309-48fe-a1fd-cfe83aac26d4",
   "metadata": {},
   "source": [
    "Some of the commonly used libraries used by Data Scientists include:\n",
    "1. NumPy\n",
    "2. Pandas\n",
    "3. TensorFlow"
   ]
  },
  {
   "cell_type": "markdown",
   "id": "683b8abb-8101-4052-be72-a0a1feaa2638",
   "metadata": {},
   "source": [
    "Data Science Tools\n",
    "\n",
    "|Data Science Tools |\n",
    "| --- |\n",
    "|RStudio|\n",
    "|Jupyter Notebooks|\n",
    "|Apache Zeppelin|"
   ]
  },
  {
   "cell_type": "markdown",
   "id": "4b42103f-ca90-4440-bb32-ce1a99db508c",
   "metadata": {},
   "source": [
    "### Below are a few examples of evaluating arithmetic expressions in Python\n",
    "<br>"
   ]
  },
  {
   "cell_type": "code",
   "execution_count": 7,
   "id": "b2be14d4-ee88-4f6a-8014-08de3b0b6fa3",
   "metadata": {
    "tags": []
   },
   "outputs": [
    {
     "name": "stdout",
     "output_type": "stream",
     "text": [
      "This a simple arithmetic expression to mutiply then add integers\n",
      "(3*4)+5= 17\n"
     ]
    }
   ],
   "source": [
    "print (\"This a simple arithmetic expression to mutiply then add integers\")\n",
    "print (\"(3*4)+5 =\",(3*4)+5)"
   ]
  },
  {
   "cell_type": "code",
   "execution_count": 10,
   "id": "c626e73f-550d-4752-9004-42f51036a806",
   "metadata": {
    "tags": []
   },
   "outputs": [
    {
     "name": "stdout",
     "output_type": "stream",
     "text": [
      "This will convert 200 minutes to hours by diving by 60\n",
      "200 minutes equals 3.3333333333333335 hours\n"
     ]
    }
   ],
   "source": [
    "print (\"This will convert 200 minutes to hours by diving by 60\")\n",
    "print (\"200 minutes equals\", 200/60 ,\"hours\")"
   ]
  },
  {
   "cell_type": "markdown",
   "id": "8c33dbd5-c68d-4e29-911e-e3fd5ded8237",
   "metadata": {
    "tags": []
   },
   "source": [
    "**Objectives:**\n",
    "- List popular languages for Data Science\n",
    "    - python\n",
    "    - julia\n",
    "    - c\n",
    "    - java\n",
    "## Author \n",
    "Yanqi Zhong"
   ]
  },
  {
   "cell_type": "markdown",
   "id": "16a9f533-e29f-41fc-a408-9350b60f59c6",
   "metadata": {},
   "source": []
  }
 ],
 "metadata": {
  "kernelspec": {
   "display_name": "Python",
   "language": "python",
   "name": "conda-env-python-py"
  },
  "language_info": {
   "codemirror_mode": {
    "name": "ipython",
    "version": 3
   },
   "file_extension": ".py",
   "mimetype": "text/x-python",
   "name": "python",
   "nbconvert_exporter": "python",
   "pygments_lexer": "ipython3",
   "version": "3.7.12"
  }
 },
 "nbformat": 4,
 "nbformat_minor": 5
}
